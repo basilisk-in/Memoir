{
 "cells": [
  {
   "cell_type": "code",
   "execution_count": null,
   "id": "98361a7e-80ee-4284-a483-f60ab61a5cef",
   "metadata": {},
   "outputs": [],
   "source": [
    "#r\"F:\\Memoir\\Memoir_ML\\images\\handwritten_sample.jpg\""
   ]
  },
  {
   "cell_type": "code",
   "execution_count": 17,
   "id": "d4a6c682-482f-41bd-8f76-24c46fbd6d91",
   "metadata": {},
   "outputs": [
    {
     "name": "stderr",
     "output_type": "stream",
     "text": [
      "\u001b[32mCreating model: ('PP-OCRv5_server_det', None)\u001b[0m\n",
      "\u001b[32mUsing official model (PP-OCRv5_server_det), the model files will be automatically downloaded and saved in C:\\Users\\Debrup\\.paddlex\\official_models.\u001b[0m\n",
      "Fetching 6 files: 100%|████████████████████████████████████████████████████████████████| 6/6 [00:00<00:00, 2893.62it/s]\n",
      "\u001b[32mCreating model: ('PP-OCRv5_server_rec', None)\u001b[0m\n",
      "\u001b[32mUsing official model (PP-OCRv5_server_rec), the model files will be automatically downloaded and saved in C:\\Users\\Debrup\\.paddlex\\official_models.\u001b[0m\n",
      "Fetching 6 files: 100%|████████████████████████████████████████████████████████████████| 6/6 [00:00<00:00, 5996.15it/s]\n"
     ]
    },
    {
     "name": "stdout",
     "output_type": "stream",
     "text": [
      "Text: NOM:, Confidence: 0.97\n",
      "Text: BOLOZAN, Confidence: 0.91\n",
      "Text: 3, Confidence: 0.94\n"
     ]
    }
   ],
   "source": [
    "from paddleocr import PaddleOCR  \n",
    "\n",
    "ocr = PaddleOCR(\n",
    "    use_doc_orientation_classify=False, \n",
    "    use_doc_unwarping=False, \n",
    "    use_textline_orientation=False,\n",
    ")\n",
    "#DO NOT USE GPU (BAD RESULTS)\n",
    "#ocr = PaddleOCR(device=\"gpu\")\n",
    "result = ocr.predict(\"images/bolozan.jpeg\")  \n",
    "\n",
    "for res in result:\n",
    "    for text, score in zip(res['rec_texts'], res['rec_scores']):\n",
    "        print(f\"Text: {text}, Confidence: {score:.2f}\")\n"
   ]
  },
  {
   "cell_type": "code",
   "execution_count": null,
   "id": "21e9be93-291a-4716-a8c0-78adce9a3631",
   "metadata": {},
   "outputs": [],
   "source": []
  }
 ],
 "metadata": {
  "kernelspec": {
   "display_name": "Python 3 (ipykernel)",
   "language": "python",
   "name": "python3"
  },
  "language_info": {
   "codemirror_mode": {
    "name": "ipython",
    "version": 3
   },
   "file_extension": ".py",
   "mimetype": "text/x-python",
   "name": "python",
   "nbconvert_exporter": "python",
   "pygments_lexer": "ipython3",
   "version": "3.10.18"
  }
 },
 "nbformat": 4,
 "nbformat_minor": 5
}
